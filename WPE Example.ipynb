{
 "cells": [
  {
   "cell_type": "code",
   "execution_count": null,
   "metadata": {},
   "outputs": [],
   "source": [
    "%reload_ext autoreload\n",
    "%autoreload 2\n",
    "%matplotlib inline\n",
    "\n",
    "import numpy as np\n",
    "from nara_wpe import project_root\n",
    "import soundfile as sf\n",
    "from nara_wpe import wpe\n",
    "from nara_wpe.utils import stft\n",
    "from nara_wpe.utils import istft\n",
    "from tqdm import tqdm\n",
    "from librosa.core.audio import resample\n",
    "import IPython\n",
    "import matplotlib.pyplot as plt"
   ]
  },
  {
   "cell_type": "markdown",
   "metadata": {},
   "source": [
    "# Minimal example with random data"
   ]
  },
  {
   "cell_type": "code",
   "execution_count": null,
   "metadata": {
    "collapsed": true
   },
   "outputs": [],
   "source": [
    "import numpy as np\n",
    "\n",
    "def aquire_audio_data():\n",
    "    D, T = 4, 10000\n",
    "    y = np.random.normal(size=(D, T))\n",
    "    return y"
   ]
  },
  {
   "cell_type": "code",
   "execution_count": null,
   "metadata": {
    "collapsed": true
   },
   "outputs": [],
   "source": [
    "from nt.utils.timer import TimerDictEntry"
   ]
  },
  {
   "cell_type": "markdown",
   "metadata": {},
   "source": [
    "## Numpy"
   ]
  },
  {
   "cell_type": "code",
   "execution_count": null,
   "metadata": {},
   "outputs": [],
   "source": [
    "import numpy as np\n",
    "from nara_wpe.wpe import wpe\n",
    "from nara_wpe.utils import stft, istft\n",
    "\n",
    "y = aquire_audio_data()\n",
    "Y = stft(y)\n",
    "Y = Y.transpose(2, 0, 1)\n",
    "with TimerDictEntry(style='float') as t:\n",
    "    Z = wpe(Y)\n",
    "print(t)\n",
    "z_np = istft(Z.transpose(1, 2, 0))"
   ]
  },
  {
   "cell_type": "markdown",
   "metadata": {},
   "source": [
    "## TensorFlow"
   ]
  },
  {
   "cell_type": "code",
   "execution_count": null,
   "metadata": {
    "scrolled": false
   },
   "outputs": [],
   "source": [
    "import tensorflow as tf\n",
    "from nara_wpe.tf_wpe import wpe\n",
    "from nara_wpe.utils import stft, istft\n",
    "\n",
    "y = aquire_audio_data()\n",
    "Y = stft(y).transpose(2, 0, 1)\n",
    "with tf.Session() as session:\n",
    "    Y_tf = tf.placeholder(\n",
    "        tf.complex128, shape=(None, None, None))\n",
    "    Z_tf = wpe(Y_tf)\n",
    "    with TimerDictEntry(style='float') as t:\n",
    "        Z = session.run(Z_tf, {Y_tf: Y})\n",
    "    print(t)\n",
    "    with TimerDictEntry(style='float') as t:\n",
    "        Z = session.run(Z_tf, {Y_tf: Y})\n",
    "    print(t)\n",
    "z_tf = istft(Z.transpose(1, 2, 0))"
   ]
  },
  {
   "cell_type": "markdown",
   "metadata": {},
   "source": [
    "# Example with real audio recordings"
   ]
  },
  {
   "cell_type": "code",
   "execution_count": null,
   "metadata": {},
   "outputs": [],
   "source": [
    "import numpy as np\n",
    "from nara_wpe import project_root\n",
    "import soundfile as sf\n",
    "from nara_wpe.wpe import wpe_v8 as wpe\n",
    "from nara_wpe.utils import stft\n",
    "from nara_wpe.utils import istft\n",
    "from tqdm import tqdm\n",
    "from librosa.core.audio import resample\n",
    "import IPython\n",
    "import matplotlib.pyplot as plt"
   ]
  },
  {
   "cell_type": "code",
   "execution_count": null,
   "metadata": {
    "collapsed": true
   },
   "outputs": [],
   "source": [
    "channels = 8\n",
    "sampling_rate = 16000\n",
    "stft_size, stft_shift = 512, 128\n",
    "delay = 3\n",
    "iterations = 5\n",
    "K = 10"
   ]
  },
  {
   "cell_type": "code",
   "execution_count": null,
   "metadata": {},
   "outputs": [],
   "source": [
    "file_template = 'AMI_WSJ20-Array1-{}_T10c0201.wav'\n",
    "signal_list = [\n",
    "    sf.read(str(project_root / 'data' / file_template.format(d + 1)))[0]\n",
    "    for d in range(channels)\n",
    "]\n",
    "y = np.stack(signal_list, axis=0)\n",
    "\n",
    "Y = stft(y, size=stft_size, shift=stft_shift)\n",
    "Z = wpe(Y.transpose(2, 0, 1)).transpose(1, 2, 0)\n",
    "\n",
    "z = istft(Z, size=stft_size, shift=stft_shift)"
   ]
  },
  {
   "cell_type": "code",
   "execution_count": null,
   "metadata": {},
   "outputs": [],
   "source": [
    "IPython.display.Audio(z[0], rate=sampling_rate)"
   ]
  },
  {
   "cell_type": "code",
   "execution_count": null,
   "metadata": {},
   "outputs": [],
   "source": [
    "X = np.copy(Y)\n",
    "D, T, F = Y.shape\n",
    "for f in tqdm(range(F), total=F):\n",
    "    X[:, :, f] = wpe.wpe_v8(Y[None, :, :, f], K=K, delay=delay, iterations=iterations)[0]\n",
    "\n",
    "x = istft(X, size=stft_size, shift=stft_shift)"
   ]
  },
  {
   "cell_type": "code",
   "execution_count": null,
   "metadata": {
    "collapsed": true
   },
   "outputs": [],
   "source": [
    "Y.shape"
   ]
  },
  {
   "cell_type": "code",
   "execution_count": null,
   "metadata": {
    "collapsed": true
   },
   "outputs": [],
   "source": [
    "file_template = 'AMI_WSJ20-Array1-{}_T10c0201.wav'\n",
    "signal_list = [\n",
    "    sf.read(str(project_root / 'data' / file_template.format(d + 1)))[0]\n",
    "    for d in range(channels)\n",
    "]\n",
    "signal_list = [resample(x_, 16000, sampling_rate) for x_ in signal_list]\n",
    "y = np.stack(signal_list, axis=0)\n",
    "\n",
    "center_frequencies = get_stft_center_frequencies(stft_size, sampling_rate)\n",
    "\n",
    "Y = stft(y, size=stft_size, shift=stft_shift)\n",
    "\n",
    "X = np.copy(Y)\n",
    "D, T, F = Y.shape\n",
    "for f in tqdm(range(1), total=1):\n",
    "    X = wpe.wpe_v8(Y.transpose((2, 0, 1)), K=K, delay=delay, iterations=iterations).transpose(1, 2, 0)\n",
    "\n",
    "x = istft(X, size=stft_size, shift=stft_shift)"
   ]
  },
  {
   "cell_type": "code",
   "execution_count": null,
   "metadata": {
    "collapsed": true
   },
   "outputs": [],
   "source": [
    "y.shape"
   ]
  },
  {
   "cell_type": "code",
   "execution_count": null,
   "metadata": {
    "collapsed": true
   },
   "outputs": [],
   "source": [
    "y.shape[1] / sampling_rate"
   ]
  },
  {
   "cell_type": "markdown",
   "metadata": {},
   "source": [
    "# One of the input channels"
   ]
  },
  {
   "cell_type": "code",
   "execution_count": null,
   "metadata": {},
   "outputs": [],
   "source": [
    "IPython.display.Audio(y[0], rate=sampling_rate)"
   ]
  },
  {
   "cell_type": "code",
   "execution_count": null,
   "metadata": {},
   "outputs": [],
   "source": [
    "Y.shape"
   ]
  },
  {
   "cell_type": "code",
   "execution_count": null,
   "metadata": {},
   "outputs": [],
   "source": [
    "plt.figure(figsize=(20, 8))\n",
    "plt.imshow(20 * np.log10(np.abs(Y[0, 200:400, :])).T, origin='lower')\n",
    "plt.colorbar()\n",
    "plt.xlabel('')\n",
    "plt.show()"
   ]
  },
  {
   "cell_type": "markdown",
   "metadata": {},
   "source": [
    "# Dereverberated signal"
   ]
  },
  {
   "cell_type": "code",
   "execution_count": null,
   "metadata": {},
   "outputs": [],
   "source": [
    "IPython.display.Audio(z[0], rate=sampling_rate)"
   ]
  },
  {
   "cell_type": "code",
   "execution_count": null,
   "metadata": {},
   "outputs": [],
   "source": [
    "plt.figure(figsize=(20, 8))\n",
    "plt.imshow(20 * np.log10(np.abs(Z[0, 200:400, :])).T, origin='lower')\n",
    "plt.colorbar()\n",
    "plt.show()"
   ]
  }
 ],
 "metadata": {
  "kernelspec": {
   "display_name": "Python 3",
   "language": "python",
   "name": "python3"
  },
  "language_info": {
   "codemirror_mode": {
    "name": "ipython",
    "version": 3
   },
   "file_extension": ".py",
   "mimetype": "text/x-python",
   "name": "python",
   "nbconvert_exporter": "python",
   "pygments_lexer": "ipython3",
   "version": "3.6.2"
  }
 },
 "nbformat": 4,
 "nbformat_minor": 2
}
